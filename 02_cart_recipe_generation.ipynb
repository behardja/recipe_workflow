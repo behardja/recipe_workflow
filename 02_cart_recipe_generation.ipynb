{
 "cells": [
  {
   "cell_type": "markdown",
   "id": "e173aa66-074f-42e1-bb5d-ec9a93c01290",
   "metadata": {},
   "source": [
    "# Recipe Generation and Similarity Matching\n",
    "\n",
    "This notebook demonstrates how to generate recipes based on a shopping cart and compare them against an indexed recipe database to find similar existing recipes."
   ]
  },
  {
   "cell_type": "markdown",
   "id": "rh24vc8465",
   "metadata": {},
   "source": [
    "## Setup and Imports\n",
    "\n",
    "Import required libraries for AI content generation, data processing, and vector search operations."
   ]
  },
  {
   "cell_type": "code",
   "execution_count": null,
   "id": "80fc65f0-82bf-4b43-8a31-ff737eb00e83",
   "metadata": {
    "tags": []
   },
   "outputs": [],
   "source": [
    "from google import genai\n",
    "from google.genai.types import EmbedContentConfig\n",
    "import json\n",
    "import pandas as pd"
   ]
  },
  {
   "cell_type": "markdown",
   "id": "33kwmcwxto7",
   "metadata": {},
   "source": [
    "## Configuration and Client Setup\n",
    "\n",
    "Configure project settings and initialize the Gemini AI client for content generation."
   ]
  },
  {
   "cell_type": "code",
   "execution_count": 43,
   "id": "73dc7d5f-dec9-41b8-910b-86cc7d65d470",
   "metadata": {
    "tags": []
   },
   "outputs": [],
   "source": [
    "import os\n",
    "\n",
    "index_endpoint = \"3153243217810423808\" # @param\n",
    "\n",
    "PROJECT_ID = \"sandbox-401718\"  # @param {type:\"string\"}\n",
    "if not PROJECT_ID or PROJECT_ID == \"[your-project-id]\":\n",
    "    PROJECT_ID = str(os.environ.get(\"GOOGLE_CLOUD_PROJECT\"))\n",
    "\n",
    "LOCATION = os.environ.get(\"GOOGLE_CLOUD_REGION\", \"us-central1\")\n",
    "\n",
    "client = genai.Client(vertexai=True, project=PROJECT_ID, location=LOCATION)"
   ]
  },
  {
   "cell_type": "markdown",
   "id": "hjxscrvta1q",
   "metadata": {},
   "source": [
    "## Input Data: Shopping Cart\n",
    "\n",
    "Load the sample shopping cart containing ingredients that will be used for recipe generation."
   ]
  },
  {
   "cell_type": "code",
   "execution_count": 4,
   "id": "eb450818-4dd6-49e4-b0e2-2299abce3205",
   "metadata": {
    "tags": []
   },
   "outputs": [
    {
     "name": "stdout",
     "output_type": "stream",
     "text": [
      "['chicken breasts', 'broccoli', 'carrots', 'onion']\n"
     ]
    }
   ],
   "source": [
    "# Sample Input \n",
    "### ['chicken breasts', 'broccoli', 'carrots', 'onion']\n",
    "\n",
    "with open('sample_cart.txt', 'r') as file:\n",
    "    cart_list = json.load(file)['cart_list']\n",
    "\n",
    "# cart list\n",
    "print(cart_list)"
   ]
  },
  {
   "cell_type": "markdown",
   "id": "r7bic71ghac",
   "metadata": {},
   "source": [
    "## Recipe Generation Prompt\n",
    "\n",
    "Create a comprehensive prompt for the AI model to generate personalized recipe recommendations based on the shopping cart items."
   ]
  },
  {
   "cell_type": "code",
   "execution_count": 5,
   "id": "113fc109-5089-4bf2-9eff-c13a38d416b2",
   "metadata": {
    "tags": []
   },
   "outputs": [],
   "source": [
    "prompt =f\"\"\"\n",
    "**System Instruction**\n",
    "\n",
    "You are a helpful AI assistant specialized in providing personalized recipe recommendations. Your primary function is to act as a **Recipe Assistant** that tailors meal plans and recipes to a user's available groceries.\n",
    "\n",
    "**Your Task:**\n",
    "1. Silently review the user's `cart_list`.\n",
    "2. Identify 1-2 recipes that maximize the use of ingredients from the `cart_list`.\n",
    "3. If necessary, supplement with common ingredients from the `recommendation_list` below to complete the recipes.\n",
    "4. Prioritize recipes that use the highest number of items from the `cart_list`.\n",
    "5. Generate a JSON response for each recipe according to the specified schema.\n",
    "\n",
    "**Inputs:**\n",
    "*  **cart_list:** A list of grocery items provided by the user.\n",
    "  `\\n\\n{cart_list}\\n\\n`\n",
    "\n",
    "*  **recommendation_list:** A predefined list of common pantry staples.\n",
    "  ```\n",
    "  [\n",
    "   \"milk\", \"eggs\", \"bread\", \"butter\", \"cheese\", \"all-purpose flour\",\n",
    "   \"rice\", \"pasta\", \"chicken\", \"beef\", \"onions\", \"garlic\",\n",
    "   \"potatoes\", \"tomatoes\", \"canned tomatoes\", \"beans\", \"olive oil\",\n",
    "   \"salt\", \"pepper\", \"sugar\"\n",
    "  ]\n",
    "  ```\n",
    "\n",
    "**Desired JSON Schema and Description:**\n",
    "\n",
    "*  **`title`**: (String) The descriptive name of the dish.\n",
    "*  **`estimated_cooking_time`**: (String) The total time required for preparation and cooking.\n",
    "*  **`ingredients_from_cart`**: (Array of Objects) A list of ingredients required for the recipe that are present in the `cart_list`. Each object should contain:\n",
    "  *  **`item`**: (String) The name of the ingredient.\n",
    "  *  **`quantity`**: (String) The specific quantity needed for the recipe.\n",
    "*  **`ingredients_to_add`**: (Array of Objects) A list of ingredients required for the recipe that are from the `recommendation_list` and not in the `cart_list`. Each object should contain:\n",
    "  *  **`item`**: (String) The name of the ingredient.\n",
    "  *  **`quantity`**: (String) The specific quantity needed for the recipe.\n",
    "*  **`instructions`**: (Array of Strings) Numbered steps for preparing the dish.\n",
    "\n",
    "**Example of EXACT Desired Output Format:**\n",
    "\n",
    "```json\n",
    "[\n",
    " {{\n",
    "  \"title\": \"Miso-Butter Roast Chicken With Acorn Squash Panzanella\",\n",
    "  \"estimated_cooking_time\": \"1 hour 45 minutes\",\n",
    "  \"ingredients_from_cart\": [\n",
    "   {{\"item\": \"acorn squash\", \"quantity\": \"2 small (about 3 lb. total)\"}},\n",
    "   {{\"item\": \"sage\", \"quantity\": \"2 Tbsp. finely chopped\"}},\n",
    "   {{\"item\": \"rosemary\", \"quantity\": \"1 Tbsp. finely chopped\"}},\n",
    "   {{\"item\": \"ground allspice\", \"quantity\": \"¼ tsp.\"}},\n",
    "   {{\"item\": \"crushed red pepper flakes\", \"quantity\": \"Pinch\"}},\n",
    "   {{\"item\": \"apples\", \"quantity\": \"2 medium (such as Gala or Pink Lady)\"}},\n",
    "   {{\"item\": \"apple cider vinegar\", \"quantity\": \"3 Tbsp.\"}},\n",
    "   {{\"item\": \"white miso\", \"quantity\": \"1 Tbsp. plus 2 tsp.\"}},\n",
    "   {{\"item\": \"dry white wine\", \"quantity\": \"¼ cup\"}},\n",
    "   {{\"item\": \"unsalted chicken broth\", \"quantity\": \"2 cups\"}}\n",
    "  ],\n",
    "  \"ingredients_to_add\": [\n",
    "   {{\"item\": \"whole chicken\", \"quantity\": \"1 (3½–4-lb.)\"}},\n",
    "   {{\"item\": \"kosher salt\", \"quantity\": \"2¾ tsp., plus more\"}},\n",
    "   {{\"item\": \"unsalted butter\", \"quantity\": \"9 Tbsp. total, divided\"}},\n",
    "   {{\"item\": \"black pepper\", \"quantity\": \"Freshly ground, to taste\"}},\n",
    "   {{\"item\": \"sturdy white bread\", \"quantity\": \"⅓ loaf (about 2½ cups torn)\"}},\n",
    "   {{\"item\": \"extra-virgin olive oil\", \"quantity\": \"2 Tbsp.\"}},\n",
    "   {{\"item\": \"red onion\", \"quantity\": \"½ small, thinly sliced\"}},\n",
    "   {{\"item\": \"all-purpose flour\", \"quantity\": \"¼ cup\"}}\n",
    "  ],\n",
    "  \"instructions\": [\n",
    "   \"1. Pat chicken dry with paper towels, season all over with 2 tsp. salt, and tie legs together with kitchen twine. Let sit at room temperature 1 hour.\",\n",
    "   \"2. Meanwhile, halve squash and scoop out seeds. Run a vegetable peeler along ridges of squash halves to remove skin. Cut each half into ½\\\"-thick wedges; arrange on a rimmed baking sheet.\",\n",
    "   \"3. Combine sage, rosemary, and 6 Tbsp. melted butter in a large bowl; pour half of mixture over squash on baking sheet. Sprinkle squash with allspice, red pepper flakes, and ½ tsp. salt and season with black pepper; toss to coat.\",\n",
    "   \"4. Add bread, apples, oil, and ¼ tsp. salt to remaining herb butter in bowl; season with black pepper and toss to combine. Set aside.\",\n",
    "   \"5. Place onion and vinegar in a small bowl; season with salt and toss to coat. Let sit, tossing occasionally, until ready to serve.\",\n",
    "   \"6. Place a rack in middle and lower third of oven; preheat to 425°F. Mix miso and 3 Tbsp. room-temperature butter in a small bowl until smooth. Pat chicken dry with paper towels, then rub or brush all over with miso butter. Place chicken in a large cast-iron skillet and roast on middle rack until an instant-read thermometer inserted into the thickest part of breast registers 155°F, 50–60 minutes. (Temperature will climb to 165°F while chicken rests.) Let chicken rest in skillet at least 5 minutes, then transfer to a plate; reserve skillet.\",\n",
    "   \"7. Meanwhile, roast squash on lower rack until mostly tender, about 25 minutes. Remove from oven and scatter reserved bread mixture over, spreading into as even a layer as you can manage. Return to oven and roast until bread is golden brown and crisp and apples are tender, about 15 minutes. Remove from oven, drain pickled onions, and toss to combine. Transfer to a serving dish.\",\n",
    "   \"8. Using your fingers, mash flour and 2 Tbsp. room-temperature butter in a small bowl to combine.\",\n",
    "   \"9. Set reserved skillet with chicken drippings over medium heat. You should have about ¼ cup. Add wine and cook, scraping up any browned bits, until reduced by about half, about 2 minutes. Add butter mixture; cook, stirring, until a smooth paste forms, about 2 minutes. Add broth and cook, stirring constantly, until thickened, 6–8 minutes. Remove from heat and stir in the remaining miso. Season with salt and black pepper.\",\n",
    "   \"10. Serve chicken with gravy and squash panzanella alongside.\"\n",
    "  ]\n",
    " }}\n",
    "]\n",
    "```\n",
    "\"\"\""
   ]
  },
  {
   "cell_type": "code",
   "execution_count": null,
   "id": "2df6f6d2-d8c1-4f13-b5f6-0af3de994768",
   "metadata": {
    "tags": []
   },
   "outputs": [],
   "source": [
    "# Generate recipes using Gemini 2.5 Pro\n",
    "response = client.models.generate_content(\n",
    "    model=\"gemini-2.5-pro\",\n",
    "    contents=[\n",
    "        prompt,\n",
    "    ],\n",
    ")\n",
    "print(response.text)"
   ]
  },
  {
   "cell_type": "markdown",
   "id": "bc141c28-f7f9-4528-96a4-4c30223f4fa8",
   "metadata": {},
   "source": [
    "## Check if Recipe Generaiton is semantic similar to database of Recipes"
   ]
  },
  {
   "cell_type": "markdown",
   "id": "c33d3e06-c661-440a-9f7a-7df7b4d8c6f1",
   "metadata": {},
   "source": [
    "### Recipe Processing and Formatting\n",
    "\n",
    "Parse and format the generated recipes for comparison against the recipe database."
   ]
  },
  {
   "cell_type": "code",
   "execution_count": 8,
   "id": "fe277276-c089-4dbc-98a2-de5fd478dab8",
   "metadata": {
    "tags": []
   },
   "outputs": [],
   "source": [
    "raw_text_output = response.text\n",
    "\n",
    "# Clean the string to remove the markdown code fences.\n",
    "clean_json_string = raw_text_output.strip().removeprefix('```json').removesuffix('```').strip()\n",
    "\n",
    "# Parse the clean JSON string into a Python list of dictionaries.\n",
    "# Now 'recipes' will be the data structure you expect.\n",
    "recipes = json.loads(clean_json_string)\n",
    "\n",
    "# Initialize an empty list to log each processed recipe ---\n",
    "processed_recipes_list = []\n",
    "\n",
    "# Now this loop will work perfectly.\n",
    "# 'recipe' will be a dictionary, as you originally intended.\n",
    "for recipe in recipes:\n",
    "    # Extract the title\n",
    "    title = recipe['title']\n",
    "    \n",
    "    # Combine all ingredients into a single list\n",
    "    all_ingredients = recipe['ingredients_from_cart'] + recipe['ingredients_to_add']\n",
    "    \n",
    "    # Format the ingredients list into a comma-separated string\n",
    "    ingredients_list = [f\"{ing['quantity']} {ing['item']}\" for ing in all_ingredients]\n",
    "    ingredients_string = \",\".join(ingredients_list)\n",
    "    \n",
    "    # Join the instructions into a single block of text with newlines\n",
    "    # Use replace('\\\\n', '\\n') if you want actual newlines in the printout,\n",
    "    # or keep '\\\\n' if you need the literal backslash-n for another system.\n",
    "    instructions_string = \"\\\\n\".join(instruction.lstrip(\"0123456789. \") for instruction in recipe['instructions'])\n",
    "    final_output = f\"Title:{title},Ingredients:{ingredients_string},Instructions:{instructions_string}\"\n",
    "    \n",
    "    # --- NEW: Add (append) the final string to our list ---\n",
    "    processed_recipes_list.append(final_output)\n"
   ]
  },
  {
   "cell_type": "code",
   "execution_count": 48,
   "id": "0edc098f-b1cd-4515-ae6b-4400f7a61404",
   "metadata": {
    "tags": []
   },
   "outputs": [],
   "source": [
    "contents = processed_recipes_list[0]"
   ]
  },
  {
   "cell_type": "code",
   "execution_count": 26,
   "id": "02475833-d657-453e-a949-862a211b4b48",
   "metadata": {
    "tags": []
   },
   "outputs": [],
   "source": [
    "# contents = 'Title:Miso-Butter Roast Chicken With Acorn Squash Panzanella,Ingredients:1 (3½–4-lb.) whole chicken, 2¾ tsp. kosher salt, divided, plus more, 2 small acorn squash (about 3 lb. total), 2 Tbsp. finely chopped sage, 1 Tbsp. finely chopped rosemary, 6 Tbsp. unsalted butter, melted, plus 3 Tbsp. room temperature, ¼ tsp. ground allspice, Pinch of crushed red pepper flakes, Freshly ground black pepper, ⅓ loaf good-quality sturdy white bread, torn into 1\" pieces (about 2½ cups), 2 medium apples (such as Gala or Pink Lady; about 14 oz. total), cored, cut into 1\" pieces, 2 Tbsp. extra-virgin olive oil, ½ small red onion, thinly sliced, 3 Tbsp. apple cider vinegar, 1 Tbsp. white miso, ¼ cup all-purpose flour, 2 Tbsp. unsalted butter, room temperature, ¼ cup dry white wine, 2 cups unsalted chicken broth, 2 tsp. white miso, Kosher salt, freshly ground pepper,Instructions:Pat chicken dry with paper towels, season all over with 2 tsp. salt, and tie legs together with kitchen twine. Let sit at room temperature 1 hour.\\nMeanwhile, halve squash and scoop out seeds. Run a vegetable peeler along ridges of squash halves to remove skin. Cut each half into ½\"-thick wedges; arrange on a rimmed baking sheet.\\nCombine sage, rosemary, and 6 Tbsp. melted butter in a large bowl; pour half of mixture over squash on baking sheet. Sprinkle squash with allspice, red pepper flakes, and ½ tsp. salt and season with black pepper; toss to coat.\\nAdd bread, apples, oil, and ¼ tsp. salt to remaining herb butter in bowl; season with black pepper and toss to combine. Set aside.\\nPlace onion and vinegar in a small bowl; season with salt and toss to coat. Let sit, tossing occasionally, until ready to serve.\\nPlace a rack in middle and lower third of oven; preheat to 425°F. Mix miso and 3 Tbsp. room-temperature butter in a small bowl until smooth. Pat chicken dry with paper towels, then rub or brush all over with miso butter. Place chicken in a large cast-iron skillet and roast on middle rack until an instant-read thermometer inserted into the thickest part of breast registers 155°F, 50–60 minutes. (Temperature will climb to 165°F while chicken rests.) Let chicken rest in skillet at least 5 minutes, then transfer to a plate; reserve skillet.\\nMeanwhile, roast squash on lower rack until mostly tender, about 25 minutes. Remove from oven and scatter reserved bread mixture over, spreading into as even a layer as you can manage. Return to oven and roast until bread is golden brown and crisp and apples are tender, about 15 minutes. Remove from oven, drain pickled onions, and toss to combine. Transfer to a serving dish.\\nUsing your fingers, mash flour and butter in a small bowl to combine.\\nSet reserved skillet with chicken drippings over medium heat. You should have about ¼ cup, but a little over or under is all good. (If you have significantly more, drain off and set excess aside.) Add wine and cook, stirring often and scraping up any browned bits with a wooden spoon, until bits are loosened and wine is reduced by about half (you should be able to smell the wine), about 2 minutes. Add butter mixture; cook, stirring often, until a smooth paste forms, about 2 minutes. Add broth and any reserved drippings and cook, stirring constantly, until combined and thickened, 6–8 minutes. Remove from heat and stir in miso. Taste and season with salt and black pepper.\\nServe chicken with gravy and squash panzanella alongside.'"
   ]
  },
  {
   "cell_type": "markdown",
   "id": "a687f30b-67df-424e-b647-9f278959d439",
   "metadata": {},
   "source": [
    "## Vector Search Setup\n",
    "\n",
    "Initialize the AI Platform and prepare for similarity search against the recipe index."
   ]
  },
  {
   "cell_type": "code",
   "execution_count": 49,
   "id": "b33c298a-264f-4d82-a11a-4eeb62b78a0c",
   "metadata": {
    "tags": []
   },
   "outputs": [],
   "source": [
    "import os\n",
    "from google.cloud import aiplatform\n",
    "\n",
    "aiplatform.init(project=PROJECT_ID, location=LOCATION)"
   ]
  },
  {
   "cell_type": "markdown",
   "id": "fla9na71a1",
   "metadata": {},
   "source": [
    "## Similarity Search\n",
    "\n",
    "Query the recipe index to find the most similar existing recipes to our generated recipe."
   ]
  },
  {
   "cell_type": "code",
   "execution_count": 50,
   "id": "32fa1743-6317-448f-82fe-33899a23e4a7",
   "metadata": {
    "tags": []
   },
   "outputs": [],
   "source": [
    "PROJECT_NUMBER = !gcloud projects list --filter=\"PROJECT_ID:'{PROJECT_ID}'\" --format='value(PROJECT_NUMBER)'\n",
    "PROJECT_NUMBER = PROJECT_NUMBER[0]\n",
    "\n",
    "my_index_endpoint = aiplatform.MatchingEngineIndexEndpoint(\n",
    "    # index_endpoint_name=f\"projects//locations//indexEndpoints/{INDEX_ENDPOINT_ID}\"\n",
    "    index_endpoint_name=f\"projects/{PROJECT_NUMBER}/locations/{LOCATION}/indexEndpoints/{index_endpoint}\" # @param\n",
    ")"
   ]
  },
  {
   "cell_type": "code",
   "execution_count": null,
   "id": "5117cdef-0011-46c0-b415-d1cd32db0894",
   "metadata": {
    "tags": []
   },
   "outputs": [],
   "source": [
    "# Generate embeddings for the processed recipe\n",
    "response = client.models.embed_content(\n",
    "    model=\"gemini-embedding-001\",\n",
    "    contents=[contents],\n",
    "    config=EmbedContentConfig(\n",
    "        output_dimensionality=3072,\n",
    "    ),\n",
    ")\n",
    "embedding_vector = response.embeddings[0].values"
   ]
  },
  {
   "cell_type": "markdown",
   "id": "ae578d81-91c5-4582-9489-d2bc252d787f",
   "metadata": {},
   "source": [
    "### Results Analysis\n",
    "\n",
    "Map the search results back to readable recipe content and display the most similar recipes."
   ]
  },
  {
   "cell_type": "code",
   "execution_count": 66,
   "id": "417d2cf7-3265-4278-8aed-076613fdee37",
   "metadata": {
    "tags": []
   },
   "outputs": [
    {
     "data": {
      "text/plain": [
       "[[MatchNeighbor(id='772', distance=0.768811047077179, sparse_distance=None, feature_vector=None, crowding_tag=None, restricts=None, numeric_restricts=None, sparse_embedding_values=None, sparse_embedding_dimensions=None),\n",
       "  MatchNeighbor(id='417', distance=0.7565523386001587, sparse_distance=None, feature_vector=None, crowding_tag=None, restricts=None, numeric_restricts=None, sparse_embedding_values=None, sparse_embedding_dimensions=None),\n",
       "  MatchNeighbor(id='688', distance=0.7508333921432495, sparse_distance=None, feature_vector=None, crowding_tag=None, restricts=None, numeric_restricts=None, sparse_embedding_values=None, sparse_embedding_dimensions=None)]]"
      ]
     },
     "execution_count": 66,
     "metadata": {},
     "output_type": "execute_result"
    }
   ],
   "source": [
    "# Test query\n",
    "response_ = my_index_endpoint.match(\n",
    "    deployed_index_id=\"recipe_index\",\n",
    "    queries=[embedding_vector],\n",
    "    num_neighbors=3,\n",
    ")\n",
    "\n",
    "response_"
   ]
  },
  {
   "cell_type": "code",
   "execution_count": 67,
   "id": "2562d68f-1ec3-4e88-978a-2be8e61c33b8",
   "metadata": {},
   "outputs": [
    {
     "data": {
      "text/html": [
       "<div>\n",
       "<style scoped>\n",
       "    .dataframe tbody tr th:only-of-type {\n",
       "        vertical-align: middle;\n",
       "    }\n",
       "\n",
       "    .dataframe tbody tr th {\n",
       "        vertical-align: top;\n",
       "    }\n",
       "\n",
       "    .dataframe thead th {\n",
       "        text-align: right;\n",
       "    }\n",
       "</style>\n",
       "<table border=\"1\" class=\"dataframe\">\n",
       "  <thead>\n",
       "    <tr style=\"text-align: right;\">\n",
       "      <th></th>\n",
       "      <th>id</th>\n",
       "      <th>content</th>\n",
       "      <th>embedding</th>\n",
       "      <th>embedding_dim</th>\n",
       "    </tr>\n",
       "  </thead>\n",
       "  <tbody>\n",
       "    <tr>\n",
       "      <th>0</th>\n",
       "      <td>0</td>\n",
       "      <td>Title:Miso-Butter Roast Chicken With Acorn Squ...</td>\n",
       "      <td>[-0.0023760846816003323, -0.011549703776836395...</td>\n",
       "      <td>3072</td>\n",
       "    </tr>\n",
       "    <tr>\n",
       "      <th>1</th>\n",
       "      <td>1</td>\n",
       "      <td>Title:Crispy Salt and Pepper Potatoes,Ingredie...</td>\n",
       "      <td>[0.01674710586667061, 0.010629256255924702, 0....</td>\n",
       "      <td>3072</td>\n",
       "    </tr>\n",
       "    <tr>\n",
       "      <th>2</th>\n",
       "      <td>2</td>\n",
       "      <td>Title:Thanksgiving Mac and Cheese,Ingredients:...</td>\n",
       "      <td>[-0.0013591762399300933, -0.002013501012697816...</td>\n",
       "      <td>3072</td>\n",
       "    </tr>\n",
       "    <tr>\n",
       "      <th>3</th>\n",
       "      <td>3</td>\n",
       "      <td>Title:Italian Sausage and Bread Stuffing,Ingre...</td>\n",
       "      <td>[0.006325311027467251, -0.005718541797250509, ...</td>\n",
       "      <td>3072</td>\n",
       "    </tr>\n",
       "    <tr>\n",
       "      <th>4</th>\n",
       "      <td>4</td>\n",
       "      <td>Title:Newton's Law,Ingredients:1 teaspoon dark...</td>\n",
       "      <td>[0.011500250548124313, -0.005415198393166065, ...</td>\n",
       "      <td>3072</td>\n",
       "    </tr>\n",
       "    <tr>\n",
       "      <th>...</th>\n",
       "      <td>...</td>\n",
       "      <td>...</td>\n",
       "      <td>...</td>\n",
       "      <td>...</td>\n",
       "    </tr>\n",
       "    <tr>\n",
       "      <th>995</th>\n",
       "      <td>995</td>\n",
       "      <td>Title:Winter of Our Content,Ingredients:3/4 ou...</td>\n",
       "      <td>[-0.018302129581570625, -0.004354100674390793,...</td>\n",
       "      <td>3072</td>\n",
       "    </tr>\n",
       "    <tr>\n",
       "      <th>996</th>\n",
       "      <td>996</td>\n",
       "      <td>Title:Perfect Circle,Ingredients:1 1/2 cups ch...</td>\n",
       "      <td>[-0.02723771147429943, 0.004735851660370827, 0...</td>\n",
       "      <td>3072</td>\n",
       "    </tr>\n",
       "    <tr>\n",
       "      <th>997</th>\n",
       "      <td>997</td>\n",
       "      <td>Title:All She Wrote,Ingredients:2 1/4 cups chi...</td>\n",
       "      <td>[-0.006035564001649618, 0.003681536763906479, ...</td>\n",
       "      <td>3072</td>\n",
       "    </tr>\n",
       "    <tr>\n",
       "      <th>998</th>\n",
       "      <td>998</td>\n",
       "      <td>Title:Mr. Tingles' Punch,Ingredients:1 (750 ml...</td>\n",
       "      <td>[0.005597192794084549, 0.0076141138561069965, ...</td>\n",
       "      <td>3072</td>\n",
       "    </tr>\n",
       "    <tr>\n",
       "      <th>999</th>\n",
       "      <td>999</td>\n",
       "      <td>Title:Sunday Stash Sweet Potatoes,Ingredients:...</td>\n",
       "      <td>[-0.0006447226041927934, 0.005986881908029318,...</td>\n",
       "      <td>3072</td>\n",
       "    </tr>\n",
       "  </tbody>\n",
       "</table>\n",
       "<p>1000 rows × 4 columns</p>\n",
       "</div>"
      ],
      "text/plain": [
       "      id                                            content  \\\n",
       "0      0  Title:Miso-Butter Roast Chicken With Acorn Squ...   \n",
       "1      1  Title:Crispy Salt and Pepper Potatoes,Ingredie...   \n",
       "2      2  Title:Thanksgiving Mac and Cheese,Ingredients:...   \n",
       "3      3  Title:Italian Sausage and Bread Stuffing,Ingre...   \n",
       "4      4  Title:Newton's Law,Ingredients:1 teaspoon dark...   \n",
       "..   ...                                                ...   \n",
       "995  995  Title:Winter of Our Content,Ingredients:3/4 ou...   \n",
       "996  996  Title:Perfect Circle,Ingredients:1 1/2 cups ch...   \n",
       "997  997  Title:All She Wrote,Ingredients:2 1/4 cups chi...   \n",
       "998  998  Title:Mr. Tingles' Punch,Ingredients:1 (750 ml...   \n",
       "999  999  Title:Sunday Stash Sweet Potatoes,Ingredients:...   \n",
       "\n",
       "                                             embedding  embedding_dim  \n",
       "0    [-0.0023760846816003323, -0.011549703776836395...           3072  \n",
       "1    [0.01674710586667061, 0.010629256255924702, 0....           3072  \n",
       "2    [-0.0013591762399300933, -0.002013501012697816...           3072  \n",
       "3    [0.006325311027467251, -0.005718541797250509, ...           3072  \n",
       "4    [0.011500250548124313, -0.005415198393166065, ...           3072  \n",
       "..                                                 ...            ...  \n",
       "995  [-0.018302129581570625, -0.004354100674390793,...           3072  \n",
       "996  [-0.02723771147429943, 0.004735851660370827, 0...           3072  \n",
       "997  [-0.006035564001649618, 0.003681536763906479, ...           3072  \n",
       "998  [0.005597192794084549, 0.0076141138561069965, ...           3072  \n",
       "999  [-0.0006447226041927934, 0.005986881908029318,...           3072  \n",
       "\n",
       "[1000 rows x 4 columns]"
      ]
     },
     "execution_count": 67,
     "metadata": {},
     "output_type": "execute_result"
    }
   ],
   "source": [
    "df = pd.read_csv(\"recipes_embeddings.csv\") # @param from previous notebook\n",
    "df"
   ]
  },
  {
   "cell_type": "code",
   "execution_count": 77,
   "id": "6121eb20-e074-4066-8f8b-37831924f91f",
   "metadata": {},
   "outputs": [
    {
     "name": "stdout",
     "output_type": "stream",
     "text": [
      "\n",
      "--- Readable Search Results ---\n",
      "Tandoori Chicken and Vegetable Sheet-Pan Supper\n",
      "Crispy Sheet-Pan Broccoli\n",
      "Chicken with Lemon and Spicy Spring Onions\n"
     ]
    }
   ],
   "source": [
    "df['id'] = df['id'].astype(str)\n",
    "\n",
    "df_lookup = df.set_index('id')\n",
    "\n",
    "# Iterate through the response and map IDs back to content\n",
    "matched_recipes = []\n",
    "if response_ and response_[0]:\n",
    "    for neighbor in response_[0]:\n",
    "        try:\n",
    "            # Now, the string `neighbor.id` will match the string index in `df_lookup`\n",
    "            matched_content = df_lookup.loc[neighbor.id][\"content\"]\n",
    "            \n",
    "            matched_recipes.append({\n",
    "                \"ID\": neighbor.id,\n",
    "                \"Content\": matched_content,\n",
    "                \"Similarity\": neighbor.distance\n",
    "            })\n",
    "        except KeyError:\n",
    "            print(f\"Warning: ID '{neighbor.id}' from search result not found in DataFrame.\")\n",
    "\n",
    "# Display the final, readable results\n",
    "if matched_recipes:\n",
    "    matched_df = pd.DataFrame(matched_recipes)\n",
    "    print(\"\\n--- Readable Search Results ---\")\n",
    "else:\n",
    "    print(\"\\nSomething went wrong, no matches were mapped.\")\n",
    "\n",
    "    \n",
    "titles = matched_df['Content'].str.split(',Ingredients:', expand=True)[0].str.split('Title:', expand=True)[1].str.strip()\n",
    "for title in titles:\n",
    "    print(title)"
   ]
  }
 ],
 "metadata": {
  "environment": {
   "kernel": "conda-root-py",
   "name": "workbench-notebooks.m117",
   "type": "gcloud",
   "uri": "us-docker.pkg.dev/deeplearning-platform-release/gcr.io/workbench-notebooks:m117"
  },
  "kernelspec": {
   "display_name": "Python 3 (ipykernel) (Local)",
   "language": "python",
   "name": "conda-root-py"
  },
  "language_info": {
   "codemirror_mode": {
    "name": "ipython",
    "version": 3
   },
   "file_extension": ".py",
   "mimetype": "text/x-python",
   "name": "python",
   "nbconvert_exporter": "python",
   "pygments_lexer": "ipython3",
   "version": "3.10.13"
  }
 },
 "nbformat": 4,
 "nbformat_minor": 5
}
